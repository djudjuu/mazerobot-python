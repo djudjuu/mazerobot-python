{
 "metadata": {
  "name": ""
 },
 "nbformat": 3,
 "nbformat_minor": 0,
 "worksheets": [
  {
   "cells": [
    {
     "cell_type": "code",
     "collapsed": false,
     "input": [
      "%pylab inline"
     ],
     "language": "python",
     "metadata": {},
     "outputs": [
      {
       "output_type": "stream",
       "stream": "stdout",
       "text": [
        "Populating the interactive namespace from numpy and matplotlib\n"
       ]
      }
     ],
     "prompt_number": 1
    },
    {
     "cell_type": "code",
     "collapsed": false,
     "input": [
      "from pandas import read_csv\n",
      "import pandas\n",
      "import glob\n",
      "from collections import defaultdict\n",
      "import seaborn as sns\n",
      "import pandas as pd\n",
      "import numpy as np"
     ],
     "language": "python",
     "metadata": {},
     "outputs": [],
     "prompt_number": 2
    },
    {
     "cell_type": "heading",
     "level": 1,
     "metadata": {},
     "source": [
      "Evolvability Analysis"
     ]
    },
    {
     "cell_type": "code",
     "collapsed": false,
     "input": [
      "#treatment_pre={\"fragile-nomut/\":\"Maze (No SA)\",\"fragile-mut/\":\"Maze (SA)\"}\n",
      "#treatment_pre={\"nomut-3t/\":\"Maze (No SA 3t)\",\"mut-3t/\":\"Maze (SA 3t)\"} #\"mut-1t/\":\"Maze (SA 1t)\",\"nomut-1t/\":\"Maze (No SA 1t)\",,\n",
      "#treatment_post={\"control\":\" Ctrl\",\"e2\":\" Extnct\"}\n",
      "\n",
      "treatment_pre={\"r/sa\":\"\"} #,\"r/na\":\"NA\"} #\"mut-1t/\":\"Maze (SA 1t)\",\"nomut-1t/\":\"Maze (No SA 1t)\",,\n",
      "treatment_post={\"cnti1\":\"Control\",\"exti1\":\"Extinction 100k\",\"exti2\":\"Extinction 200k\",\"exti3\":\"Extinction 400k\"}\n",
      "#treatment_post_d={\"cnti1\":\" Ctrl\",\"exti1\":\" Ext1\",\"exti2\":\" Ext2\",\"exti3\":\" Ext3\"}\n",
      "treatment_post_d=treatment_post.keys()\n",
      "treatment_post_d.sort()\n",
      "treatments=[]\n",
      "\n",
      "for a in treatment_pre:\n",
      "    for b in treatment_post_d:\n",
      "        treatments.append((a,b))\n",
      "\n",
      "\n"
     ],
     "language": "python",
     "metadata": {},
     "outputs": [],
     "prompt_number": 3
    },
    {
     "cell_type": "code",
     "collapsed": false,
     "input": [
      "def compile_treatment(treat):\n",
      "    #search=\"%sout-%s*.evo\"% treat\n",
      "    search=\"%s%s*.evo\"% treat\n",
      "  \n",
      "    files=glob.glob(search)\n",
      "    \n",
      "    print search,len(files)\n",
      "    max_dict=defaultdict(list)\n",
      "    maxx_dict=defaultdict(list)\n",
      "    min_dict=defaultdict(list)\n",
      "    mean_dict=defaultdict(list)\n",
      "    samps=defaultdict(list)\n",
      "    for fn in files:\n",
      "        fsamps=defaultdict(list)\n",
      "        data=read_csv(fn,header=None,sep=' ',names=[\"eval\",\"evo\"])\n",
      "        samples = data[\"eval\"].unique()\n",
      "        print fn,samples[-1]\n",
      "        #if(samples[-1]!=3000000):\n",
      "        #     continue\n",
      "        for x in samples:\n",
      "          evo_samp=data[data[\"eval\"]==x][\"evo\"]\n",
      "          #print evo_samp.shape\n",
      "          samps[x]+=list(evo_samp)\n",
      "          fsamps[fn]+=list(evo_samp)\n",
      "          maxx_dict[x].append(max(fsamps[fn]))\n",
      "          max_dict[x].append(evo_samp.max())\n",
      "          min_dict[x].append(evo_samp.min())\n",
      "          mean_dict[x].append(evo_samp.mean())\n",
      " \n",
      "    dict_store = (max_dict.copy(),min_dict.copy(),mean_dict.copy())\n",
      "    \n",
      "    keys= max_dict.keys()\n",
      "    keys.sort()\n",
      "    for x in keys:\n",
      "     max_dict[x]=sum(max_dict[x])/float(len(max_dict[x]))\n",
      "     maxx_dict[x]=sum(maxx_dict[x])/float(len(maxx_dict[x]))\n",
      "     min_dict[x]=sum(min_dict[x])/float(len(min_dict[x]))\n",
      "     mean_dict[x]=sum(mean_dict[x])/float(len(mean_dict[x]))\n",
      "    x=max_dict.keys()\n",
      "    x.sort()\n",
      "    samps_arr=np.zeros((len(x),len(samps[x[0]])))\n",
      "    \n",
      "    #print [len(samps[x[k]]) for k in range(len(x))]\n",
      "    for k in range(len(x)):\n",
      "     samps_arr[k,:] = np.array(samps[x[k]])\n",
      "    means=np.array([mean_dict[k] for k in x])\n",
      "    mins=np.array([min_dict[k] for k in x])\n",
      "    maxs=np.array([max_dict[k] for k in x])\n",
      "    return np.array(x),means,mins,maxs,samps_arr,dict_store"
     ],
     "language": "python",
     "metadata": {},
     "outputs": [],
     "prompt_number": 4
    },
    {
     "cell_type": "code",
     "collapsed": false,
     "input": [
      "k=0\n",
      "samps_tot=[]\n",
      "final_samps=[]\n",
      "\n",
      "final_means=[]\n",
      "final_mins=[]\n",
      "final_maxs=[]\n",
      "\n",
      "samp_store={}\n",
      "store={}\n",
      "\n",
      "title(\"Evolvability over time\")\n",
      "\n",
      "compiled_results=[]\n",
      "\n",
      "for treat in treatments:\n",
      "    print treat\n",
      "    x,means,low,high,samps,store[treat]=compile_treatment(treat)\n",
      "    compiled_results.append((x,means,high))\n",
      "\n",
      "    #errorbar(x,means,yerr=numpy.vstack([low,high]),label=treat[0]+treat[1])\n",
      "    samps=samps.transpose()\n",
      "    final_samps.append(samps[:,-1])\n",
      "    samp_store[treat]=final_samps[-1]\n",
      "    samps_tot.append(samps)\n",
      "    k+=1\n",
      "    t=treat\n",
      "    label=treatment_pre[t[0]]+treatment_post[t[1]]\n",
      "    #new_ax.set_title(treatment_pre[t[0]]+treatment_post[t[1]])\n",
      "    #sns.boxplot(samps,ax=new_ax)   \n",
      "    #plot(means,label=label)\n",
      "    #plot(low,label=label)\n",
      "    plot(x,high,label=label)\n",
      "    #legend()\n",
      "\n",
      "    final_means.append(means[-1])\n",
      "    final_mins.append(low[-1])\n",
      "    final_maxs.append(high[-1])\n",
      "legend()\n",
      "plt.figure()\n",
      "\n",
      "\n",
      "\n",
      "#sns.boxplot(final_samps,names=[treatment_pre[t[0]]+treatment_post[t[1]] for t in treatments])\n",
      "\n",
      "x=range(len(treatments))\n",
      "plot(x,final_means,\"go\",label=\"median\")\n",
      "plot(x,final_mins,\"ro\",label=\"min\")\n",
      "plot(x,final_maxs,\"bo\",label=\"max\")\n",
      "xticks(range(len(treatments)),[treatment_pre[t[0]]+treatment_post[t[1]] for t in treatments])"
     ],
     "language": "python",
     "metadata": {},
     "outputs": [
      {
       "output_type": "stream",
       "stream": "stdout",
       "text": [
        "('r/sa', 'cnti1')\n",
        "r/sacnti1*.evo 50\n",
        "r/sacnti1-63.evo 6000000\n",
        "r/sacnti1-52.evo 6000000\n",
        "r/sacnti1-65.evo"
       ]
      },
      {
       "output_type": "stream",
       "stream": "stdout",
       "text": [
        " 6000000\n",
        "r/sacnti1-75.evo 6000000\n",
        "r/sacnti1-62.evo"
       ]
      },
      {
       "output_type": "stream",
       "stream": "stdout",
       "text": [
        " 6000000\n",
        "r/sacnti1-98.evo 6000000\n",
        "r/sacnti1-50.evo 6000000\n",
        "r/sacnti1-70.evo"
       ]
      },
      {
       "output_type": "stream",
       "stream": "stdout",
       "text": [
        " 6000000\n",
        "r/sacnti1-59.evo 6000000\n",
        "r/sacnti1-92.evo 6000000\n",
        "r/sacnti1-89.evo"
       ]
      },
      {
       "output_type": "stream",
       "stream": "stdout",
       "text": [
        " 6000000\n",
        "r/sacnti1-57.evo 6000000\n",
        "r/sacnti1-77.evo 6000000\n",
        "r/sacnti1-93.evo"
       ]
      },
      {
       "output_type": "stream",
       "stream": "stdout",
       "text": [
        " 6000000\n",
        "r/sacnti1-97.evo 6000000\n",
        "r/sacnti1-91.evo 6000000\n",
        "r/sacnti1-96.evo"
       ]
      },
      {
       "output_type": "stream",
       "stream": "stdout",
       "text": [
        " 6000000\n",
        "r/sacnti1-79.evo 6000000\n",
        "r/sacnti1-88.evo 6000000\n",
        "r/sacnti1-58.evo"
       ]
      },
      {
       "output_type": "stream",
       "stream": "stdout",
       "text": [
        " 6000000\n",
        "r/sacnti1-90.evo 6000000\n",
        "r/sacnti1-94.evo 6000000\n",
        "r/sacnti1-78.evo"
       ]
      },
      {
       "output_type": "stream",
       "stream": "stdout",
       "text": [
        " 6000000\n",
        "r/sacnti1-82.evo 6000000\n",
        "r/sacnti1-83.evo 6000000\n",
        "r/sacnti1-85.evo"
       ]
      },
      {
       "output_type": "stream",
       "stream": "stdout",
       "text": [
        " 6000000\n",
        "r/sacnti1-76.evo 6000000\n",
        "r/sacnti1-55.evo 6000000\n",
        "r/sacnti1-80.evo"
       ]
      },
      {
       "output_type": "stream",
       "stream": "stdout",
       "text": [
        " 6000000\n",
        "r/sacnti1-86.evo 6000000\n",
        "r/sacnti1-99.evo 6000000\n",
        "r/sacnti1-67.evo"
       ]
      },
      {
       "output_type": "stream",
       "stream": "stdout",
       "text": [
        " 6000000\n",
        "r/sacnti1-81.evo 6000000\n",
        "r/sacnti1-56.evo 6000000\n",
        "r/sacnti1-95.evo"
       ]
      },
      {
       "output_type": "stream",
       "stream": "stdout",
       "text": [
        " 6000000\n",
        "r/sacnti1-60.evo 6000000\n",
        "r/sacnti1-84.evo 6000000\n",
        "r/sacnti1-64.evo"
       ]
      },
      {
       "output_type": "stream",
       "stream": "stdout",
       "text": [
        " 6000000\n",
        "r/sacnti1-73.evo 6000000\n",
        "r/sacnti1-54.evo 6000000\n",
        "r/sacnti1-74.evo"
       ]
      },
      {
       "output_type": "stream",
       "stream": "stdout",
       "text": [
        " 6000000\n",
        "r/sacnti1-69.evo 6000000\n",
        "r/sacnti1-68.evo 6000000\n",
        "r/sacnti1-51.evo"
       ]
      },
      {
       "output_type": "stream",
       "stream": "stdout",
       "text": [
        " 6000000\n",
        "r/sacnti1-72.evo 6000000\n",
        "r/sacnti1-66.evo 6000000\n",
        "r/sacnti1-61.evo"
       ]
      },
      {
       "output_type": "stream",
       "stream": "stdout",
       "text": [
        " 6000000\n",
        "r/sacnti1-87.evo 6000000\n",
        "r/sacnti1-71.evo 6000000\n",
        "r/sacnti1-53.evo"
       ]
      },
      {
       "output_type": "stream",
       "stream": "stdout",
       "text": [
        " 6000000\n",
        "('r/sa', 'exti1')"
       ]
      },
      {
       "output_type": "stream",
       "stream": "stdout",
       "text": [
        "\n",
        "r/saexti1*.evo 50\n",
        "r/saexti1-32.evo 6000000\n",
        "r/saexti1-5.evo 6000000\n",
        "r/saexti1-11.evo"
       ]
      },
      {
       "output_type": "stream",
       "stream": "stdout",
       "text": [
        " 6000000\n",
        "r/saexti1-6.evo 6000000\n",
        "r/saexti1-19.evo 6000000\n",
        "r/saexti1-7.evo"
       ]
      },
      {
       "output_type": "stream",
       "stream": "stdout",
       "text": [
        " 6000000\n",
        "r/saexti1-1.evo 6000000\n",
        "r/saexti1-28.evo 6000000\n",
        "r/saexti1-9.evo"
       ]
      },
      {
       "output_type": "stream",
       "stream": "stdout",
       "text": [
        " 6000000\n",
        "r/saexti1-42.evo 6000000\n",
        "r/saexti1-49.evo 6000000\n",
        "r/saexti1-10.evo"
       ]
      },
      {
       "output_type": "stream",
       "stream": "stdout",
       "text": [
        " 6000000\n",
        "r/saexti1-27.evo 6000000\n",
        "r/saexti1-21.evo 6000000\n",
        "r/saexti1-16.evo"
       ]
      },
      {
       "output_type": "stream",
       "stream": "stdout",
       "text": [
        " 6000000\n",
        "r/saexti1-8.evo 6000000\n",
        "r/saexti1-37.evo 6000000\n",
        "r/saexti1-18.evo"
       ]
      },
      {
       "output_type": "stream",
       "stream": "stdout",
       "text": [
        " 6000000\n",
        "r/saexti1-38.evo 6000000\n",
        "r/saexti1-4.evo 6000000\n",
        "r/saexti1-13.evo"
       ]
      },
      {
       "output_type": "stream",
       "stream": "stdout",
       "text": [
        " 6000000\n",
        "r/saexti1-24.evo 6000000\n",
        "r/saexti1-22.evo 6000000\n",
        "r/saexti1-41.evo"
       ]
      },
      {
       "output_type": "stream",
       "stream": "stdout",
       "text": [
        " 6000000\n",
        "r/saexti1-47.evo 6000000\n",
        "r/saexti1-29.evo 6000000\n",
        "r/saexti1-44.evo"
       ]
      },
      {
       "output_type": "stream",
       "stream": "stdout",
       "text": [
        " 6000000\n",
        "r/saexti1-15.evo 6000000\n",
        "r/saexti1-30.evo 6000000\n",
        "r/saexti1-0.evo"
       ]
      },
      {
       "output_type": "stream",
       "stream": "stdout",
       "text": [
        " 6000000\n",
        "r/saexti1-2.evo 6000000\n",
        "r/saexti1-23.evo 6000000\n",
        "r/saexti1-14.evo"
       ]
      },
      {
       "output_type": "stream",
       "stream": "stdout",
       "text": [
        " 6000000\n",
        "r/saexti1-17.evo 6000000\n",
        "r/saexti1-36.evo 6000000\n",
        "r/saexti1-40.evo"
       ]
      },
      {
       "output_type": "stream",
       "stream": "stdout",
       "text": [
        " 6000000\n",
        "r/saexti1-43.evo 6000000\n",
        "r/saexti1-46.evo 6000000\n",
        "r/saexti1-31.evo"
       ]
      },
      {
       "output_type": "stream",
       "stream": "stdout",
       "text": [
        " 6000000\n",
        "r/saexti1-3.evo 6000000\n",
        "r/saexti1-33.evo 6000000\n",
        "r/saexti1-20.evo"
       ]
      },
      {
       "output_type": "stream",
       "stream": "stdout",
       "text": [
        " 6000000\n",
        "r/saexti1-39.evo 6000000\n",
        "r/saexti1-35.evo 6000000\n",
        "r/saexti1-45.evo"
       ]
      },
      {
       "output_type": "stream",
       "stream": "stdout",
       "text": [
        " 6000000\n",
        "r/saexti1-34.evo 6000000\n",
        "r/saexti1-25.evo 6000000\n",
        "r/saexti1-12.evo"
       ]
      },
      {
       "output_type": "stream",
       "stream": "stdout",
       "text": [
        " 6000000\n",
        "r/saexti1-26.evo 6000000\n",
        "r/saexti1-48.evo 6000000\n",
        "('r/sa', 'exti2')"
       ]
      },
      {
       "output_type": "stream",
       "stream": "stdout",
       "text": [
        "\n",
        "r/saexti2*.evo 50\n",
        "r/saexti2-156.evo 6000000\n",
        "r/saexti2-196.evo 6000000\n",
        "r/saexti2-155.evo 6000000\n",
        "r/saexti2-163.evo"
       ]
      },
      {
       "output_type": "stream",
       "stream": "stdout",
       "text": [
        " 6000000\n",
        "r/saexti2-160.evo 6000000\n",
        "r/saexti2-173.evo 6000000\n",
        "r/saexti2-178.evo"
       ]
      },
      {
       "output_type": "stream",
       "stream": "stdout",
       "text": [
        " 6000000\n",
        "r/saexti2-172.evo 6000000\n",
        "r/saexti2-167.evo 6000000\n",
        "r/saexti2-197.evo"
       ]
      },
      {
       "output_type": "stream",
       "stream": "stdout",
       "text": [
        " 6000000\n",
        "r/saexti2-169.evo 6000000\n",
        "r/saexti2-186.evo 6000000\n",
        "r/saexti2-158.evo"
       ]
      },
      {
       "output_type": "stream",
       "stream": "stdout",
       "text": [
        " 6000000\n",
        "r/saexti2-187.evo 6000000\n",
        "r/saexti2-199.evo 6000000\n",
        "r/saexti2-151.evo"
       ]
      },
      {
       "output_type": "stream",
       "stream": "stdout",
       "text": [
        " 6000000\n",
        "r/saexti2-182.evo 6000000\n",
        "r/saexti2-152.evo 6000000\n",
        "r/saexti2-188.evo"
       ]
      },
      {
       "output_type": "stream",
       "stream": "stdout",
       "text": [
        " 6000000\n",
        "r/saexti2-192.evo 6000000\n",
        "r/saexti2-198.evo 6000000\n",
        "r/saexti2-195.evo"
       ]
      },
      {
       "output_type": "stream",
       "stream": "stdout",
       "text": [
        " 6000000\n",
        "r/saexti2-194.evo 6000000\n",
        "r/saexti2-184.evo 6000000\n",
        "r/saexti2-189.evo"
       ]
      },
      {
       "output_type": "stream",
       "stream": "stdout",
       "text": [
        " 6000000\n",
        "r/saexti2-181.evo 6000000\n",
        "r/saexti2-180.evo 6000000\n",
        "r/saexti2-190.evo"
       ]
      },
      {
       "output_type": "stream",
       "stream": "stdout",
       "text": [
        " 6000000\n",
        "r/saexti2-175.evo 6000000\n",
        "r/saexti2-193.evo 6000000\n",
        "r/saexti2-185.evo"
       ]
      },
      {
       "output_type": "stream",
       "stream": "stdout",
       "text": [
        " 6000000\n",
        "r/saexti2-153.evo 6000000\n",
        "r/saexti2-162.evo 6000000\n",
        "r/saexti2-191.evo"
       ]
      },
      {
       "output_type": "stream",
       "stream": "stdout",
       "text": [
        " 6000000\n",
        "r/saexti2-170.evo 6000000\n",
        "r/saexti2-174.evo 6000000\n",
        "r/saexti2-165.evo"
       ]
      },
      {
       "output_type": "stream",
       "stream": "stdout",
       "text": [
        " 6000000\n",
        "r/saexti2-176.evo 6000000\n",
        "r/saexti2-166.evo 6000000\n",
        "r/saexti2-179.evo"
       ]
      },
      {
       "output_type": "stream",
       "stream": "stdout",
       "text": [
        " 6000000\n",
        "r/saexti2-159.evo 6000000\n",
        "r/saexti2-183.evo 6000000\n",
        "r/saexti2-161.evo"
       ]
      },
      {
       "output_type": "stream",
       "stream": "stdout",
       "text": [
        " 6000000\n",
        "r/saexti2-164.evo 6000000\n",
        "r/saexti2-177.evo 6000000\n",
        "r/saexti2-168.evo"
       ]
      },
      {
       "output_type": "stream",
       "stream": "stdout",
       "text": [
        " 6000000\n",
        "r/saexti2-150.evo 6000000\n",
        "r/saexti2-171.evo 6000000\n",
        "r/saexti2-154.evo"
       ]
      },
      {
       "output_type": "stream",
       "stream": "stdout",
       "text": [
        " 6000000\n",
        "r/saexti2-157.evo 6000000\n",
        "('r/sa', 'exti3')"
       ]
      },
      {
       "output_type": "stream",
       "stream": "stdout",
       "text": [
        "\n",
        "r/saexti3*.evo 50\n",
        "r/saexti3-135.evo 6000000\n",
        "r/saexti3-144.evo 6000000\n",
        "r/saexti3-130.evo 6000000\n",
        "r/saexti3-108.evo"
       ]
      },
      {
       "output_type": "stream",
       "stream": "stdout",
       "text": [
        " 6000000\n",
        "r/saexti3-115.evo 6000000\n",
        "r/saexti3-143.evo 6000000\n",
        "r/saexti3-111.evo"
       ]
      },
      {
       "output_type": "stream",
       "stream": "stdout",
       "text": [
        " 6000000\n",
        "r/saexti3-148.evo 6000000\n",
        "r/saexti3-112.evo 6000000\n",
        "r/saexti3-104.evo"
       ]
      },
      {
       "output_type": "stream",
       "stream": "stdout",
       "text": [
        " 6000000\n",
        "r/saexti3-116.evo 6000000\n",
        "r/saexti3-100.evo 6000000\n",
        "r/saexti3-139.evo"
       ]
      },
      {
       "output_type": "stream",
       "stream": "stdout",
       "text": [
        " 6000000\n",
        "r/saexti3-105.evo 6000000\n",
        "r/saexti3-133.evo 6000000\n",
        "r/saexti3-122.evo"
       ]
      },
      {
       "output_type": "stream",
       "stream": "stdout",
       "text": [
        " 6000000\n",
        "r/saexti3-119.evo 6000000\n",
        "r/saexti3-137.evo 6000000\n",
        "r/saexti3-129.evo"
       ]
      },
      {
       "output_type": "stream",
       "stream": "stdout",
       "text": [
        " 6000000\n",
        "r/saexti3-110.evo 6000000\n",
        "r/saexti3-149.evo 6000000\n",
        "r/saexti3-124.evo"
       ]
      },
      {
       "output_type": "stream",
       "stream": "stdout",
       "text": [
        " 6000000\n",
        "r/saexti3-120.evo 6000000\n",
        "r/saexti3-142.evo 6000000\n",
        "r/saexti3-102.evo"
       ]
      },
      {
       "output_type": "stream",
       "stream": "stdout",
       "text": [
        " 6000000\n",
        "r/saexti3-121.evo 6000000\n",
        "r/saexti3-109.evo 6000000\n",
        "r/saexti3-146.evo"
       ]
      },
      {
       "output_type": "stream",
       "stream": "stdout",
       "text": [
        " 6000000\n",
        "r/saexti3-117.evo 6000000\n",
        "r/saexti3-103.evo 6000000\n",
        "r/saexti3-147.evo"
       ]
      },
      {
       "output_type": "stream",
       "stream": "stdout",
       "text": [
        " 6000000\n",
        "r/saexti3-134.evo 6000000\n",
        "r/saexti3-118.evo 6000000\n",
        "r/saexti3-127.evo"
       ]
      },
      {
       "output_type": "stream",
       "stream": "stdout",
       "text": [
        " 6000000\n",
        "r/saexti3-126.evo 6000000\n",
        "r/saexti3-145.evo 6000000\n",
        "r/saexti3-106.evo"
       ]
      },
      {
       "output_type": "stream",
       "stream": "stdout",
       "text": [
        " 6000000\n",
        "r/saexti3-136.evo 6000000\n",
        "r/saexti3-140.evo 6000000\n",
        "r/saexti3-131.evo"
       ]
      },
      {
       "output_type": "stream",
       "stream": "stdout",
       "text": [
        " 6000000\n",
        "r/saexti3-141.evo 6000000\n",
        "r/saexti3-101.evo 6000000\n",
        "r/saexti3-128.evo"
       ]
      },
      {
       "output_type": "stream",
       "stream": "stdout",
       "text": [
        " 6000000\n",
        "r/saexti3-123.evo 6000000\n",
        "r/saexti3-125.evo 6000000\n",
        "r/saexti3-132.evo"
       ]
      },
      {
       "output_type": "stream",
       "stream": "stdout",
       "text": [
        " 6000000\n",
        "r/saexti3-113.evo 6000000\n",
        "r/saexti3-114.evo 6000000\n",
        "r/saexti3-138.evo"
       ]
      },
      {
       "output_type": "stream",
       "stream": "stdout",
       "text": [
        " 6000000\n",
        "r/saexti3-107.evo 6000000\n"
       ]
      },
      {
       "metadata": {},
       "output_type": "pyout",
       "prompt_number": 7,
       "text": [
        "([<matplotlib.axis.XTick at 0x7f4cb6254dd0>,\n",
        "  <matplotlib.axis.XTick at 0x7f4cb5892490>,\n",
        "  <matplotlib.axis.XTick at 0x7f4cb61d0350>,\n",
        "  <matplotlib.axis.XTick at 0x7f4cb5830790>],\n",
        " <a list of 4 Text xticklabel objects>)"
       ]
      },
      {
       "metadata": {},
       "output_type": "display_data",
       "png": "[encoded data removed]",
       "text": [
        "<matplotlib.figure.Figure at 0x7f4cb5983850>"
       ]
      },
      {
       "metadata": {},
       "output_type": "display_data",
       "png": "[encoded data removed]",
       "text": [
        "<matplotlib.figure.Figure at 0x7f4cb5835690>"
       ]
      }
     ],
     "prompt_number": 7
    },
    {
     "cell_type": "code",
     "collapsed": false,
     "input": [
      "max_data=[numpy.array(compiled_results[0][0])]+[numpy.array(z[2]) for z in compiled_results]\n",
      "print len(max_data)\n",
      "max_data=np.vstack(max_data).transpose()\n",
      "\n",
      "mean_data=[numpy.array(compiled_results[0][0])]+[numpy.array(z[1]) for z in compiled_results]\n",
      "print len(mean_data)\n",
      "mean_data=np.vstack(mean_data).transpose()\n",
      "\n",
      "cols=[\"generation\"]+[treatment_post[treat[1]] for treat in treatments]\n",
      "df1 = pandas.DataFrame(max_data,columns=cols)\n",
      "df1.to_csv(\"maze-max.dat\",sep=\" \",index_label=\"indx\")\n",
      "\n",
      "df2 = pandas.DataFrame(mean_data,columns=cols)\n",
      "df2.to_csv(\"maze-mean.dat\",sep=\" \",index_label=\"indx\")\n",
      "\n",
      "\n",
      "#speed = pd.Series([str(t) for t in treatments], name=\"treatment\")\n",
      "#sns.tsplot(numpy.dstack(samps_tot),condition=speed,err_style=\"boot_traces\",ci=99.9999)\n",
      "\n",
      "#legend(bbox_to_anchor=(0., 1.02, 1., .102), loc=3,\n",
      "#       ncol=2, mode=\"expand\", borderaxespad=0.)"
     ],
     "language": "python",
     "metadata": {},
     "outputs": [
      {
       "output_type": "stream",
       "stream": "stdout",
       "text": [
        "5\n",
        "5\n"
       ]
      }
     ],
     "prompt_number": 9
    },
    {
     "cell_type": "code",
     "collapsed": false,
     "input": [
      "k=[]\n",
      "for treat in treatments:\n",
      " k.append(samp_store[treat])\n",
      " label=treatment_post[treat[1]]\n",
      " print label\n",
      " df1 = pandas.DataFrame(samp_store[treat],columns=[label,])\n",
      " df1.to_csv(\"maze-box-%s.dat\"%str(treat[1]),sep=\" \",index_label=\"indx\")\n",
      "   \n",
      "\n",
      "sns.boxplot(k)   \n",
      "\n",
      "plt.figure()\n",
      "\n",
      "\n",
      "#sns.boxplot(final_samps,names=[treatment_pre[t[0]]+treatment_post[t[1]] for t in treatments])\n",
      "\n",
      "x=range(len(treatments))\n",
      "plot(x,final_means,\"go\",label=\"median\")\n",
      "plot(x,final_mins,\"ro\",label=\"min\")\n",
      "plot(x,final_maxs,\"bo\",label=\"max\")\n",
      "xticks(range(len(treatments)),[treatment_pre[t[0]]+treatment_post[t[1]] for t in treatments])"
     ],
     "language": "python",
     "metadata": {},
     "outputs": [
      {
       "output_type": "stream",
       "stream": "stdout",
       "text": [
        "Control\n",
        "Extinction 100k\n",
        "Extinction 200k\n",
        "Extinction 400k\n"
       ]
      },
      {
       "metadata": {},
       "output_type": "pyout",
       "prompt_number": 6,
       "text": [
        "([<matplotlib.axis.XTick at 0x7f4cb6211390>,\n",
        "  <matplotlib.axis.XTick at 0x7f4cb5873490>,\n",
        "  <matplotlib.axis.XTick at 0x7f4cb591e110>,\n",
        "  <matplotlib.axis.XTick at 0x7f4cb5929210>],\n",
        " <a list of 4 Text xticklabel objects>)"
       ]
      },
      {
       "metadata": {},
       "output_type": "display_data",
       "png": "[encoded data removed]",
       "text": [
        "<matplotlib.figure.Figure at 0x7f4cc3d23610>"
       ]
      },
      {
       "metadata": {},
       "output_type": "display_data",
       "png": "[encoded data removed]",
       "text": [
        "<matplotlib.figure.Figure at 0x7f4cc3d235d0>"
       ]
      }
     ],
     "prompt_number": 6
    },
    {
     "cell_type": "heading",
     "level": 1,
     "metadata": {},
     "source": [
      "Stat analyis"
     ]
    },
    {
     "cell_type": "code",
     "collapsed": false,
     "input": [
      "#print store\n",
      "key=6000000\n",
      "indx=2\n",
      "import scipy.stats\n",
      "\n",
      "for x in treatments:\n",
      "    for y in treatments:\n",
      "        \n",
      "        xlabel=treatment_pre[x[0]]+treatment_post[x[1]]\n",
      "        ylabel=treatment_pre[y[0]]+treatment_post[y[1]]\n",
      "        xdat=store[x][indx][key]\n",
      "        ydat=store[y][indx][key]\n",
      "        xmean=float(sum(xdat))/len(xdat)\n",
      "        ymean=float(sum(ydat))/len(ydat)\n",
      "        print xlabel,xmean,ylabel,ymean,scipy.stats.ttest_ind(xdat,ydat)[1]"
     ],
     "language": "python",
     "metadata": {},
     "outputs": [
      {
       "output_type": "stream",
       "stream": "stdout",
       "text": [
        "Control 35.5992 Control 35.5992 1.0\n",
        "Control 35.5992 Extinction 100k 45.2957 9.97628664521e-09\n",
        "Control 35.5992 Extinction 200k 41.0522 0.00162703149817\n",
        "Control 35.5992 Extinction 400k 39.6184 0.0111895537029\n",
        "Extinction 100k 45.2957 Control 35.5992 9.97628664521e-09\n",
        "Extinction 100k 45.2957 Extinction 100k 45.2957 1.0\n",
        "Extinction 100k 45.2957 Extinction 200k 41.0522 0.0123878294308\n",
        "Extinction 100k 45.2957 Extinction 400k 39.6184 0.000360670597179\n",
        "Extinction 200k 41.0522 Control 35.5992 0.00162703149817\n",
        "Extinction 200k 41.0522 Extinction 100k 45.2957 0.0123878294308\n",
        "Extinction 200k 41.0522 Extinction 200k 41.0522 1.0\n",
        "Extinction 200k 41.0522 Extinction 400k 39.6184 0.393125727836\n",
        "Extinction 400k 39.6184 Control 35.5992 0.0111895537029\n",
        "Extinction 400k 39.6184 Extinction 100k 45.2957 0.000360670597179\n",
        "Extinction 400k 39.6184 Extinction 200k 41.0522 0.393125727836\n",
        "Extinction 400k 39.6184 Extinction 400k 39.6184 1.0\n"
       ]
      }
     ],
     "prompt_number": 8
    },
    {
     "cell_type": "heading",
     "level": 1,
     "metadata": {},
     "source": [
      "Niche Analysis"
     ]
    },
    {
     "cell_type": "code",
     "collapsed": false,
     "input": [
      "for treat in treatments:\n",
      " #files=glob.glob(\"%sout-%s*.log\"% treat)\n",
      " files=glob.glob(\"%s%s*.log\"% treat)\n",
      " for fn in files:\n",
      "        fn_new=fn + \".new\"\n",
      "        a=open(fn).read()\n",
      "        a=a.replace(\"(\",\"\").replace(\")\",\"\")\n",
      "        b=open(fn_new,\"w\").write(a)"
     ],
     "language": "python",
     "metadata": {},
     "outputs": [],
     "prompt_number": 11
    },
    {
     "cell_type": "code",
     "collapsed": false,
     "input": [
      "\n",
      "#data=data[data[\"eval\"]%50000==0]\n",
      "#plot(data[\"eval\"],data[\"niches\"])\n",
      "\n",
      "def compile_treatment_niche(treat):\n",
      "    #files=glob.glob(\"%sout-%s*.log.new\"% treat)\n",
      "    files=glob.glob(\"%s%s*.log.new\"% treat)\n",
      "    datas=[]\n",
      "    for fn in files:\n",
      "        dat=read_csv(fn,header=None,sep=',',names=[\"eval\",\"niches\",\"entropy\",\"complexity\",\"fit\"])\n",
      "        if(dat.shape[0]<3000):\n",
      "            continue\n",
      "        datas.append(dat)\n",
      "    return datas,files\n",
      "\n",
      "\"\"\"\n",
      "    for x in datas[0][\"eval\"].unique():   \n",
      "     max_dict[x]=sum(max_dict[x])/float(len(max_dict[x]))\n",
      "\n",
      "    x=max_dict.keys()\n",
      "    x.sort()\n",
      "    y=[max_dict[k] for k in x]\n",
      "    return x,y\n",
      "\"\"\"\n",
      "\n"
     ],
     "language": "python",
     "metadata": {},
     "outputs": [
      {
       "metadata": {},
       "output_type": "pyout",
       "prompt_number": 12,
       "text": [
        "'\\n    for x in datas[0][\"eval\"].unique():   \\n     max_dict[x]=sum(max_dict[x])/float(len(max_dict[x]))\\n\\n    x=max_dict.keys()\\n    x.sort()\\n    y=[max_dict[k] for k in x]\\n    return x,y\\n'"
       ]
      }
     ],
     "prompt_number": 12
    },
    {
     "cell_type": "code",
     "collapsed": false,
     "input": [
      "data=[]\n",
      "for treat in treatments:\n",
      "#for treat in [treatments[4]]:\n",
      "    #print treat\n",
      "    t=treat\n",
      "    label=treatment_pre[t[0]]+treatment_post[t[1]]\n",
      "    d,files=compile_treatment_niche(treat)\n",
      "    x=d[0][\"eval\"]\n",
      "    accum=d[0]\n",
      "    key=\"entropy\"\n",
      "    for k in range(1,len(d)):\n",
      "      #print len(d[k][key]),files[k]\n",
      "      accum[key]+=d[k][key]\n",
      "    accum[key]/=len(d)\n",
      "    rng=3000\n",
      "    plot(x[:rng],accum[key][:rng],label=label)\n",
      "    data.append((x,accum[key],label))\n",
      "title(\"Niches occupied\")\n",
      "#legend()\n",
      "legend(loc=3,\n",
      "       ncol=2, mode=\"expand\", borderaxespad=0.)"
     ],
     "language": "python",
     "metadata": {},
     "outputs": [
      {
       "metadata": {},
       "output_type": "pyout",
       "prompt_number": 13,
       "text": [
        "<matplotlib.legend.Legend at 0x7f4cb61b8cd0>"
       ]
      },
      {
       "metadata": {},
       "output_type": "display_data",
       "png": "[encoded data removed]",
       "text": [
        "<matplotlib.figure.Figure at 0x7f4cb59cfb10>"
       ]
      }
     ],
     "prompt_number": 13
    },
    {
     "cell_type": "code",
     "collapsed": false,
     "input": [
      "data=[numpy.array(data[0][0])]+[numpy.array(z[1]) for z in data]\n",
      "print len(data)\n",
      "data=np.vstack(data).transpose()\n",
      "\n",
      "\n",
      "cols=[\"generation\"]+[treatment_post[treat[1]] for treat in treatments]\n",
      "df1 = pandas.DataFrame(data,columns=cols)\n",
      "df1.to_csv(\"maze-niches.dat\",sep=\" \",index_label=\"indx\")"
     ],
     "language": "python",
     "metadata": {},
     "outputs": [
      {
       "output_type": "stream",
       "stream": "stdout",
       "text": [
        "5\n"
       ]
      }
     ],
     "prompt_number": 14
    },
    {
     "cell_type": "code",
     "collapsed": false,
     "input": [
      "for treat in treatments:\n",
      "    print treat\n",
      "    d,files=compile_treatment_niche(treat)\n",
      "    x=d[0][\"eval\"]\n",
      "    key=\"complexity\"\n",
      "    y=np.vstack([d[k][key] for k in range(len(d))]).mean(0)\n",
      "    t=treat\n",
      "    label=treatment_pre[t[0]]+treatment_post[t[1]]\n",
      "    plot(x[1:],y[1:],label=label)\n",
      "\n",
      "title(\"avg \" + key)\n",
      "legend(loc=3,\n",
      "       ncol=2, mode=\"expand\", borderaxespad=0.)"
     ],
     "language": "python",
     "metadata": {},
     "outputs": [
      {
       "output_type": "stream",
       "stream": "stdout",
       "text": [
        "('r/sa', 'cnti1')\n",
        "('r/sa', 'exti1')"
       ]
      },
      {
       "output_type": "stream",
       "stream": "stdout",
       "text": [
        "\n",
        "('r/sa', 'exti2')"
       ]
      },
      {
       "output_type": "stream",
       "stream": "stdout",
       "text": [
        "\n",
        "('r/sa', 'exti3')"
       ]
      },
      {
       "output_type": "stream",
       "stream": "stdout",
       "text": [
        "\n"
       ]
      },
      {
       "metadata": {},
       "output_type": "pyout",
       "prompt_number": 15,
       "text": [
        "<matplotlib.legend.Legend at 0x7f4cb61aff10>"
       ]
      },
      {
       "metadata": {},
       "output_type": "display_data",
       "png": "[encoded data removed]",
       "text": [
        "<matplotlib.figure.Figure at 0x7f4cb59d8710>"
       ]
      }
     ],
     "prompt_number": 15
    },
    {
     "cell_type": "code",
     "collapsed": false,
     "input": [
      "\n",
      "\n",
      "for treat in treatments:\n",
      "    d,files=compile_treatment_niche(treat)\n",
      "    x=d[0][\"eval\"]\n",
      "    key=\"fit\"\n",
      "    y=np.vstack([d[k][key] for k in range(len(d))]).mean(0)\n",
      "    t=treat\n",
      "    label=treatment_pre[t[0]]+treatment_post[t[1]]\n",
      "    plot(x[1:],y[1:],label=label)\n",
      "\n",
      "title(\"avg \" + key)\n",
      "legend(loc=3,\n",
      "       ncol=2, mode=\"expand\", borderaxespad=0.)"
     ],
     "language": "python",
     "metadata": {},
     "outputs": [
      {
       "metadata": {},
       "output_type": "pyout",
       "prompt_number": 16,
       "text": [
        "<matplotlib.legend.Legend at 0x7f4cb6007d50>"
       ]
      },
      {
       "metadata": {},
       "output_type": "display_data",
       "png": "[encoded data removed]",
       "text": [
        "<matplotlib.figure.Figure at 0x7f4cb5897ed0>"
       ]
      }
     ],
     "prompt_number": 16
    },
    {
     "cell_type": "code",
     "collapsed": false,
     "input": [
      "labels=[]\n",
      "values=[]\n",
      "\n",
      "solved_dict={}\n",
      "for treat in treatments:\n",
      "    #print treat\n",
      "    t=treat\n",
      "    globstr=treat[0]+\"*\"+treat[1]+\"*solution.dat\"\n",
      "    tglobstr=treat[0]+\"*\"+treat[1]+\"*.log\"\n",
      "    \n",
      "    label=treatment_pre[t[0]]+treatment_post[t[1]]\n",
      "    solved=glob.glob(globstr)\n",
      "    solved=len([s for s in solved if int(s.split(\"_\")[1])<=3000000])\n",
      "    \n",
      "    total=len(glob.glob(tglobstr))\n",
      "    value= solved/float(total)\n",
      "    print label,solved,total\n",
      "    print label,value\n",
      "    labels.append(label)\n",
      "    values.append(value)\n",
      "    solved_dict[label]=(solved*2,(total-solved)*2)\n",
      "\n",
      "bar(range(len(treatments)),values)\n",
      "xticks([k+0.4 for k in range(len(treatments))],labels)\n",
      "ylim(0,1)\n",
      "title(\"Solution Probability\")\n",
      "#xticklabels(values)"
     ],
     "language": "python",
     "metadata": {},
     "outputs": [
      {
       "output_type": "stream",
       "stream": "stdout",
       "text": [
        "Control 32 50\n",
        "Control 0.64\n",
        "Extinction 100k 40 50\n",
        "Extinction 100k 0.8\n",
        "Extinction 200k 37 50\n",
        "Extinction 200k 0.74\n",
        "Extinction 400k 34 50\n",
        "Extinction 400k 0.68\n"
       ]
      },
      {
       "metadata": {},
       "output_type": "pyout",
       "prompt_number": 25,
       "text": [
        "<matplotlib.text.Text at 0x7f4cb5aa73d0>"
       ]
      },
      {
       "metadata": {},
       "output_type": "display_data",
       "png": "[encoded data removed]",
       "text": [
        "<matplotlib.figure.Figure at 0x7f4cb5941a50>"
       ]
      }
     ],
     "prompt_number": 25
    },
    {
     "cell_type": "code",
     "collapsed": false,
     "input": [
      "#print store\n",
      "\n",
      "import scipy.stats\n",
      "\n",
      "for x in treatments:\n",
      "    for y in treatments:\n",
      "        \n",
      "        xlabel=treatment_pre[x[0]]+treatment_post[x[1]]\n",
      "        ylabel=treatment_pre[y[0]]+treatment_post[y[1]]\n",
      "        xdat=solved_dict[xlabel]\n",
      "        ydat=solved_dict[ylabel]\n",
      "        print xlabel,xdat,ylabel,ydat,scipy.stats.fisher_exact((xdat,ydat))[1]"
     ],
     "language": "python",
     "metadata": {},
     "outputs": [
      {
       "output_type": "stream",
       "stream": "stdout",
       "text": [
        "Control (64, 36) Control (64, 36) 1.0\n",
        "Control (64, 36) Extinction 100k (80, 20) 0.0177268289399\n",
        "Control (64, 36) Extinction 200k (74, 26) 0.168561906416\n",
        "Control (64, 36) Extinction 400k (68, 32) 0.654453941149\n",
        "Extinction 100k (80, 20) Control (64, 36) 0.0177268289399\n",
        "Extinction 100k (80, 20) Extinction 100k (80, 20) 1.0\n",
        "Extinction 100k (80, 20) Extinction 200k (74, 26) 0.401012681474\n",
        "Extinction 100k (80, 20) Extinction 400k (68, 32) 0.0756101756607\n",
        "Extinction 200k (74, 26) Control (64, 36) "
       ]
      },
      {
       "output_type": "stream",
       "stream": "stdout",
       "text": [
        "0.168561906416\n",
        "Extinction 200k (74, 26) Extinction 100k (80, 20) 0.401012681474\n",
        "Extinction 200k (74, 26) Extinction 200k (74, 26) 1.0\n",
        "Extinction 200k (74, 26) Extinction 400k (68, 32) 0.436039264212\n",
        "Extinction 400k (68, 32) Control (64, 36) 0.654453941149\n",
        "Extinction 400k (68, 32) Extinction 100k (80, 20) 0.0756101756607\n",
        "Extinction 400k (68, 32) Extinction 200k (74, 26) 0.436039264212\n",
        "Extinction 400k (68, 32) Extinction 400k (68, 32) 1.0\n"
       ]
      }
     ],
     "prompt_number": 26
    },
    {
     "cell_type": "code",
     "collapsed": false,
     "input": [
      "def get_traits(fn):\n",
      "    lines=open(fn).read().split(\"\\n\")[:-1]\n",
      "    traits=[k for k in lines if k.find(\"trait\")!=-1]\n",
      "    return [[float(z) for z in t.split()[1:5]] for t in traits]\n",
      "\n",
      "def get_links(fn):\n",
      "    lines=open(fn).read().split(\"\\n\")[:-1]\n",
      "    traits=[k for k in lines if k.find(\"gene\")!=-1]\n",
      "    return [[float(z) for z in t.split()[1:5]] for t in traits]\n",
      "\n",
      "def avg_over(files,func,indx):\n",
      "    return sum([func(k)[indx] for k in files])/len(files)\n",
      "\n",
      "from collections import Counter\n",
      "def avg_traits(fn):\n",
      "    t=get_traits(fn)\n",
      "    links=get_links(fn)\n",
      "    \n",
      "    total=float(len(links))\n",
      "    tcount=Counter([x[0] for x in links])\n",
      "    \n",
      "    #print tcount\n",
      "    avg_mod = sum([t[x][1]*tcount[x+1] for x in range(3)])/total #len(t)\n",
      "    avg_skip = sum([t[x][2]*tcount[x+1] for x in range(3)])/total #len(t)\n",
      "    avg_dummy = min(tcount[1],tcount[2],tcount[3])/total\n",
      "    #avg_dummy = sum([t[x][3]*tcount[x+1] for x in range(3)])/total #len(t)\n",
      "    \n",
      "    \"\"\"\n",
      "    avg_mod = sum([z[1] for z in t])/len(t)\n",
      "    avg_skip = sum([z[2] for z in t])/len(t)\n",
      "    avg_dummy = sum([z[3] for z in t])/len(t)\n",
      "    \"\"\"\n",
      "    \n",
      "    return (avg_mod,avg_skip,avg_dummy)\n",
      "\n",
      "for z in range(3):\n",
      " labels=[]\n",
      " values=[]\n",
      " for treat in treatments:\n",
      "    t=treat\n",
      "    label=treatment_pre[t[0]]+treatment_post[t[1]]\n",
      "    \n",
      "    gcmd=treat[0]+\"*\"+treat[1]+\"*bestevo.dat\"\n",
      "    files=glob.glob(gcmd)\n",
      "    \n",
      "    value=avg_over(files,avg_traits,z)\n",
      "    print label,value\n",
      "    labels.append(label)\n",
      "    values.append(value)\n",
      "    \n",
      "    #get_traits(files[0])\n",
      "    #get_links(files[1])\n",
      "    #print avg_traits(files[4])\n",
      " bar(range(len(treatments)),values)\n",
      " xticks([k+0.4 for k in range(len(treatments))],labels)\n",
      " ylim(0,1)\n",
      " title(\"%d Average\" % z)\n",
      " plt.figure()"
     ],
     "language": "python",
     "metadata": {},
     "outputs": [
      {
       "output_type": "stream",
       "stream": "stdout",
       "text": [
        "Control 0.295865311542\n",
        "ExtinctionMost"
       ]
      },
      {
       "output_type": "stream",
       "stream": "stdout",
       "text": [
        " 0.206796874593\n",
        "ExtinctionMore"
       ]
      },
      {
       "output_type": "stream",
       "stream": "stdout",
       "text": [
        " 0.234906644179\n",
        "ExtinctionSome 0.178205228061\n",
        "Control"
       ]
      },
      {
       "output_type": "stream",
       "stream": "stdout",
       "text": [
        " 0.77612148684\n",
        "ExtinctionMost 0.824058002322\n",
        "ExtinctionMore 0.803458366182\n",
        "ExtinctionSome 0.726859635624\n",
        "Control"
       ]
      },
      {
       "output_type": "stream",
       "stream": "stdout",
       "text": [
        " 0.2159296316\n",
        "ExtinctionMost 0.248163482156\n",
        "ExtinctionMore 0.222950606979\n",
        "ExtinctionSome 0.217423552046\n"
       ]
      },
      {
       "metadata": {},
       "output_type": "display_data",
       "png": "[encoded data removed]",
       "text": [
        "<matplotlib.figure.Figure at 0x7fc1dc237450>"
       ]
      },
      {
       "metadata": {},
       "output_type": "display_data",
       "png": "[encoded data removed]",
       "text": [
        "<matplotlib.figure.Figure at 0x7fc1dc154e10>"
       ]
      },
      {
       "metadata": {},
       "output_type": "display_data",
       "png": "[encoded data removed]",
       "text": [
        "<matplotlib.figure.Figure at 0x7fc1dc0d7b50>"
       ]
      },
      {
       "metadata": {},
       "output_type": "display_data",
       "text": [
        "<matplotlib.figure.Figure at 0x7fc1dc076510>"
       ]
      }
     ],
     "prompt_number": 13
    },
    {
     "cell_type": "code",
     "collapsed": false,
     "input": [],
     "language": "python",
     "metadata": {},
     "outputs": [],
     "prompt_number": 13
    },
    {
     "cell_type": "code",
     "collapsed": false,
     "input": [],
     "language": "python",
     "metadata": {},
     "outputs": [],
     "prompt_number": 13
    }
   ],
   "metadata": {}
  }
 ]
}