{
 "metadata": {
  "name": ""
 },
 "nbformat": 3,
 "nbformat_minor": 0,
 "worksheets": [
  {
   "cells": [
    {
     "cell_type": "code",
     "collapsed": false,
     "input": [
      "%pylab inline"
     ],
     "language": "python",
     "metadata": {},
     "outputs": [
      {
       "output_type": "stream",
       "stream": "stdout",
       "text": [
        "Populating the interactive namespace from numpy and matplotlib\n"
       ]
      },
      {
       "output_type": "stream",
       "stream": "stderr",
       "text": [
        "WARNING: pylab import has clobbered these variables: ['ylabel', 'xlabel']\n",
        "`%pylab --no-import-all` prevents importing * from pylab and numpy\n"
       ]
      }
     ],
     "prompt_number": 37
    },
    {
     "cell_type": "code",
     "collapsed": false,
     "input": [
      "from pandas import read_csv\n",
      "import pandas\n",
      "import glob\n",
      "from collections import defaultdict\n",
      "import seaborn as sns\n",
      "import pandas as pd\n",
      "import numpy as np"
     ],
     "language": "python",
     "metadata": {},
     "outputs": [],
     "prompt_number": 38
    },
    {
     "cell_type": "heading",
     "level": 1,
     "metadata": {},
     "source": [
      "Evolvability Analysis"
     ]
    },
    {
     "cell_type": "code",
     "collapsed": false,
     "input": [
      "#treatment_pre={\"fragile-nomut/\":\"Maze (No SA)\",\"fragile-mut/\":\"Maze (SA)\"}\n",
      "#treatment_pre={\"nomut-3t/\":\"Maze (No SA 3t)\",\"mut-3t/\":\"Maze (SA 3t)\"} #\"mut-1t/\":\"Maze (SA 1t)\",\"nomut-1t/\":\"Maze (No SA 1t)\",,\n",
      "#treatment_post={\"control\":\" Ctrl\",\"e2\":\" Extnct\"}\n",
      "\n",
      "treatment_pre={\"r/gsa\":\"\"} #,\"r/na\":\"NA\"} #\"mut-1t/\":\"Maze (SA 1t)\",\"nomut-1t/\":\"Maze (No SA 1t)\",,\n",
      "treatment_post={\"cnti1\":\"Control\",\"exti1\":\"ExtinctionMost\",\"exti2\":\"ExtinctionMore\",\"exti3\":\"ExtinctionSome\"}\n",
      "#treatment_post_d={\"cnti1\":\" Ctrl\",\"exti1\":\" Ext1\",\"exti2\":\" Ext2\",\"exti3\":\" Ext3\"}\n",
      "treatment_post_d=treatment_post.keys()\n",
      "treatment_post_d.sort()\n",
      "treatments=[]\n",
      "\n",
      "for a in treatment_pre:\n",
      "    for b in treatment_post_d:\n",
      "        treatments.append((a,b))\n",
      "\n",
      "\n"
     ],
     "language": "python",
     "metadata": {},
     "outputs": [],
     "prompt_number": 39
    },
    {
     "cell_type": "code",
     "collapsed": false,
     "input": [
      "def compile_treatment(treat):\n",
      "    #search=\"%sout-%s*.evo\"% treat\n",
      "    search=\"%s%s*.evo\"% treat\n",
      "    print search\n",
      "    files=glob.glob(search)\n",
      "    \n",
      "    max_dict=defaultdict(list)\n",
      "    maxx_dict=defaultdict(list)\n",
      "    min_dict=defaultdict(list)\n",
      "    mean_dict=defaultdict(list)\n",
      "    samps=defaultdict(list)\n",
      "    for fn in files:\n",
      "        fsamps=defaultdict(list)\n",
      "        data=read_csv(fn,header=None,sep=' ',names=[\"gen\",\"eval\",\"evo\"])\n",
      "        samples = data[\"gen\"].unique()\n",
      "        \n",
      "        #if(samples[-1]!=3000000):\n",
      "        #     continue\n",
      "        print samples\n",
      "        for x in samples:\n",
      "          #if x>5000:\n",
      "          #      continue\n",
      "          evo_samp=data[data[\"gen\"]==x][\"evo\"]\n",
      "          #print x,evo_samp\n",
      "          #print evo_samp.shape\n",
      "          samps[x]+=list(evo_samp)\n",
      "          fsamps[fn]+=list(evo_samp)\n",
      "          maxx_dict[x].append(max(fsamps[fn]))\n",
      "          max_dict[x].append(evo_samp.max())\n",
      "          min_dict[x].append(evo_samp.min())\n",
      "          mean_dict[x].append(evo_samp.median())\n",
      "\n",
      "    dict_store = (max_dict.copy(),min_dict.copy(),mean_dict.copy())\n",
      "    \n",
      "    keys= max_dict.keys()\n",
      "    keys.sort()\n",
      "    for x in keys:\n",
      "     max_dict[x]=sum(max_dict[x])/float(len(max_dict[x]))\n",
      "     maxx_dict[x]=sum(maxx_dict[x])/float(len(maxx_dict[x]))\n",
      "     min_dict[x]=sum(min_dict[x])/float(len(min_dict[x]))\n",
      "     mean_dict[x]=sum(mean_dict[x])/float(len(mean_dict[x]))\n",
      "    x=max_dict.keys()\n",
      "    x.sort()\n",
      "    \n",
      "    samps_arr=np.zeros((len(x),len(samps[x[1]])))\n",
      "    \n",
      "    while len(samps[0])<len(samps[x[1]]):\n",
      "        print len(samps[0]),len(samps[x[1]])\n",
      "        samps[0]+=samps[0]\n",
      "    samps[0]=samps[0][:len(samps[x[1]])]\n",
      "    \n",
      "    #print [len(samps[x[k]]) for k in range(len(x))]\n",
      "    for k in range(len(x)):\n",
      "     samps_arr[k,:] = np.array(samps[x[k]])\n",
      "    means=np.array([mean_dict[k] for k in x])\n",
      "    mins=np.array([min_dict[k] for k in x])\n",
      "    maxs=np.array([max_dict[k] for k in x])\n",
      "    return np.array(x),means,mins,maxs,samps_arr,dict_store"
     ],
     "language": "python",
     "metadata": {},
     "outputs": [],
     "prompt_number": 40
    },
    {
     "cell_type": "code",
     "collapsed": false,
     "input": [
      "k=0\n",
      "samps_tot=[]\n",
      "final_samps=[]\n",
      "\n",
      "final_means=[]\n",
      "final_mins=[]\n",
      "final_maxs=[]\n",
      "\n",
      "store={}\n",
      "\n",
      "title(\"Evolvability over time\")\n",
      "\n",
      "compiled_results=[]\n",
      "\n",
      "for treat in treatments:\n",
      "    print treat\n",
      "    x,means,low,high,samps,store[treat]=compile_treatment(treat)\n",
      "    compiled_results.append((x,means,high))\n",
      "\n",
      "    #errorbar(x,means,yerr=numpy.vstack([low,high]),label=treat[0]+treat[1])\n",
      "    samps=samps.transpose()\n",
      "    final_samps.append(samps[:,-1])\n",
      "    samps_tot.append(samps)\n",
      "    k+=1\n",
      "    t=treat\n",
      "    label=treatment_pre[t[0]]+treatment_post[t[1]]\n",
      "    #new_ax.set_title(treatment_pre[t[0]]+treatment_post[t[1]])\n",
      "    #sns.boxplot(samps,ax=new_ax)   \n",
      "    #plot(means,label=label)\n",
      "    #plot(low,label=label)\n",
      "    plot(high,label=label)\n",
      "    #legend()\n",
      "\n",
      "    final_means.append(means[-1])\n",
      "    final_mins.append(low[-1])\n",
      "    final_maxs.append(high[-1])\n",
      "legend()\n",
      "plt.figure()\n",
      "\n",
      "\n",
      "\n",
      "#sns.boxplot(final_samps,names=[treatment_pre[t[0]]+treatment_post[t[1]] for t in treatments])\n",
      "\n",
      "x=range(len(treatments))\n",
      "plot(x,final_means,\"go\",label=\"median\")\n",
      "plot(x,final_mins,\"ro\",label=\"min\")\n",
      "plot(x,final_maxs,\"bo\",label=\"max\")\n",
      "xticks(range(len(treatments)),[treatment_pre[t[0]]+treatment_post[t[1]] for t in treatments])"
     ],
     "language": "python",
     "metadata": {},
     "outputs": [
      {
       "output_type": "stream",
       "stream": "stdout",
       "text": [
        "('r/gsa', 'cnti1')\n",
        "r/gsacnti1*.evo\n",
        "[   0  500 1000 1500 2000 2500 3000 3500 4000 4500 5000]\n",
        "[   0  500 1000 1500 2000 2500 3000 3500 4000 4500 5000]"
       ]
      },
      {
       "output_type": "stream",
       "stream": "stdout",
       "text": [
        "\n",
        "[   0  500 1000 1500 2000 2500 3000 3500 4000 4500 5000]\n",
        "[   0  500 1000 1500 2000 2500 3000 3500 4000 4500 5000]\n",
        "[   0  500 1000 1500 2000 2500 3000 3500 4000 4500 5000]\n",
        "[   0  500 1000 1500 2000 2500 3000 3500 4000 4500 5000]\n",
        "[   0  500 1000 1500 2000 2500 3000 3500 4000 4500 5000]"
       ]
      },
      {
       "output_type": "stream",
       "stream": "stdout",
       "text": [
        "\n",
        "[   0  500 1000 1500 2000 2500 3000 3500 4000 4500 5000]\n",
        "[   0  500 1000 1500 2000 2500 3000 3500 4000 4500 5000]\n",
        "[   0  500 1000 1500 2000 2500 3000 3500 4000 4500 5000]\n",
        "[   0  500 1000 1500 2000 2500 3000 3500 4000 4500 5000]\n",
        "[   0  500 1000 1500 2000 2500 3000 3500 4000 4500 5000]"
       ]
      },
      {
       "output_type": "stream",
       "stream": "stdout",
       "text": [
        "\n",
        "[   0  500 1000 1500 2000 2500 3000 3500 4000 4500 5000]\n",
        "[   0  500 1000 1500 2000 2500 3000 3500 4000 4500 5000]\n",
        "[   0  500 1000 1500 2000 2500 3000 3500 4000 4500 5000]\n",
        "[   0  500 1000 1500 2000 2500 3000 3500 4000 4500 5000]\n",
        "[   0  500 1000 1500 2000 2500 3000 3500 4000 4500 5000]"
       ]
      },
      {
       "output_type": "stream",
       "stream": "stdout",
       "text": [
        "\n",
        "[   0  500 1000 1500 2000 2500 3000 3500 4000 4500 5000]\n",
        "[   0  500 1000 1500 2000 2500 3000 3500 4000 4500 5000]\n",
        "[   0  500 1000 1500 2000 2500 3000 3500 4000 4500 5000]\n",
        "20 5000\n",
        "40 5000\n",
        "80 5000\n",
        "160 5000\n",
        "320 5000\n",
        "640 5000\n",
        "1280 5000\n",
        "2560 5000\n",
        "('r/gsa', 'exti1')"
       ]
      },
      {
       "output_type": "stream",
       "stream": "stdout",
       "text": [
        "\n",
        "r/gsaexti1*.evo\n",
        "[   0  500 1000 1500 2000 2500 3000 3500 4000 4500 5000]\n",
        "[   0  500 1000 1500 2000 2500 3000 3500 4000 4500 5000]\n",
        "[   0  500 1000 1500 2000 2500 3000 3500 4000 4500 5000]\n",
        "[   0  500 1000 1500 2000 2500 3000 3500 4000 4500 5000]\n",
        "[   0  500 1000 1500 2000 2500 3000 3500 4000 4500 5000]\n",
        "[   0  500 1000 1500 2000 2500 3000 3500 4000 4500 5000]"
       ]
      },
      {
       "output_type": "stream",
       "stream": "stdout",
       "text": [
        "\n",
        "[   0  500 1000 1500 2000 2500 3000 3500 4000 4500 5000]\n",
        "[   0  500 1000 1500 2000 2500 3000 3500 4000 4500 5000]\n",
        "[   0  500 1000 1500 2000 2500 3000 3500 4000 4500 5000]\n",
        "[   0  500 1000 1500 2000 2500 3000 3500 4000 4500 5000]\n",
        "[   0  500 1000 1500 2000 2500 3000 3500 4000 4500 5000]"
       ]
      },
      {
       "output_type": "stream",
       "stream": "stdout",
       "text": [
        "\n",
        "[   0  500 1000 1500 2000 2500 3000 3500 4000 4500 5000]\n",
        "[   0  500 1000 1500 2000 2500 3000 3500 4000 4500 5000]\n",
        "[   0  500 1000 1500 2000 2500 3000 3500 4000 4500 5000]\n",
        "[   0  500 1000 1500 2000 2500 3000 3500 4000 4500 5000]\n",
        "[   0  500 1000 1500 2000 2500 3000 3500 4000 4500 5000]"
       ]
      },
      {
       "output_type": "stream",
       "stream": "stdout",
       "text": [
        "\n",
        "[   0  500 1000 1500 2000 2500 3000 3500 4000 4500 5000]\n",
        "[   0  500 1000 1500 2000 2500 3000 3500 4000 4500 5000]\n",
        "[   0  500 1000 1500 2000 2500 3000 3500 4000 4500 5000]\n",
        "[   0  500 1000 1500 2000 2500 3000 3500 4000 4500 5000]\n",
        "21 5000\n",
        "42 5000\n",
        "84 5000\n",
        "168 5000\n",
        "336 5000\n",
        "672 5000\n",
        "1344 5000\n",
        "2688 5000\n",
        "('r/gsa', 'exti2')"
       ]
      },
      {
       "output_type": "stream",
       "stream": "stdout",
       "text": [
        "\n",
        "r/gsaexti2*.evo\n",
        "[   0  500 1000 1500 2000 2500 3000 3500 4000 4500 5000]\n",
        "[   0  500 1000 1500 2000 2500 3000 3500 4000 4500 5000]\n",
        "[   0  500 1000 1500 2000 2500 3000 3500 4000 4500 5000]\n",
        "[   0  500 1000 1500 2000 2500 3000 3500 4000 4500 5000]\n",
        "[   0  500 1000 1500 2000 2500 3000 3500 4000 4500 5000]\n",
        "[   0  500 1000 1500 2000 2500 3000 3500 4000 4500 5000]"
       ]
      },
      {
       "output_type": "stream",
       "stream": "stdout",
       "text": [
        "\n",
        "[   0  500 1000 1500 2000 2500 3000 3500 4000 4500 5000]\n",
        "[   0  500 1000 1500 2000 2500 3000 3500 4000 4500 5000]\n",
        "[   0  500 1000 1500 2000 2500 3000 3500 4000 4500 5000]\n",
        "[   0  500 1000 1500 2000 2500 3000 3500 4000 4500 5000]\n",
        "[   0  500 1000 1500 2000 2500 3000 3500 4000 4500 5000]"
       ]
      },
      {
       "output_type": "stream",
       "stream": "stdout",
       "text": [
        "\n",
        "[   0  500 1000 1500 2000 2500 3000 3500 4000 4500 5000]\n",
        "[   0  500 1000 1500 2000 2500 3000 3500 4000 4500 5000]\n",
        "[   0  500 1000 1500 2000 2500 3000 3500 4000 4500 5000]\n",
        "[   0  500 1000 1500 2000 2500 3000 3500 4000 4500 5000]\n",
        "[   0  500 1000 1500 2000 2500 3000 3500 4000 4500 5000]"
       ]
      },
      {
       "output_type": "stream",
       "stream": "stdout",
       "text": [
        "\n",
        "[   0  500 1000 1500 2000 2500 3000 3500 4000 4500 5000]\n",
        "[   0  500 1000 1500 2000 2500 3000 3500 4000 4500 5000]\n",
        "[   0  500 1000 1500 2000 2500 3000 3500 4000 4500 5000]\n",
        "[   0  500 1000 1500 2000 2500 3000 3500 4000 4500 5000]\n",
        "21"
       ]
      },
      {
       "output_type": "stream",
       "stream": "stdout",
       "text": [
        " 5000\n",
        "42 5000\n",
        "84 5000\n",
        "168 5000\n",
        "336 5000\n",
        "672 5000\n",
        "1344 5000\n",
        "2688 5000\n",
        "('r/gsa', 'exti3')\n",
        "r/gsaexti3*.evo\n",
        "[   0  500 1000 1500 2000 2500 3000 3500 4000 4500 5000]\n",
        "[   0  500 1000 1500 2000 2500 3000 3500 4000 4500 5000]\n",
        "[   0  500 1000 1500 2000 2500 3000 3500 4000 4500 5000]\n",
        "[   0  500 1000 1500 2000 2500 3000 3500 4000 4500 5000]\n",
        "[   0  500 1000 1500 2000 2500 3000 3500 4000 4500 5000]"
       ]
      },
      {
       "output_type": "stream",
       "stream": "stdout",
       "text": [
        "\n",
        "[   0  500 1000 1500 2000 2500 3000 3500 4000 4500 5000]\n",
        "[   0  500 1000 1500 2000 2500 3000 3500 4000 4500 5000]\n",
        "[   0  500 1000 1500 2000 2500 3000 3500 4000 4500 5000]\n",
        "[   0  500 1000 1500 2000 2500 3000 3500 4000 4500 5000]\n",
        "[   0  500 1000 1500 2000 2500 3000 3500 4000 4500 5000]"
       ]
      },
      {
       "output_type": "stream",
       "stream": "stdout",
       "text": [
        "\n",
        "[   0  500 1000 1500 2000 2500 3000 3500 4000 4500 5000]\n",
        "[   0  500 1000 1500 2000 2500 3000 3500 4000 4500 5000]\n",
        "[   0  500 1000 1500 2000 2500 3000 3500 4000 4500 5000]\n",
        "[   0  500 1000 1500 2000 2500 3000 3500 4000 4500 5000]\n",
        "[   0  500 1000 1500 2000 2500 3000 3500 4000 4500 5000]"
       ]
      },
      {
       "output_type": "stream",
       "stream": "stdout",
       "text": [
        "\n",
        "[   0  500 1000 1500 2000 2500 3000 3500 4000 4500 5000]\n",
        "[   0  500 1000 1500 2000 2500 3000 3500 4000 4500 5000]\n",
        "[   0  500 1000 1500 2000 2500 3000 3500 4000 4500 5000]\n",
        "[   0  500 1000 1500 2000 2500 3000 3500 4000 4500 5000]\n",
        "[   0  500 1000 1500 2000 2500 3000 3500 4000 4500 5000]"
       ]
      },
      {
       "output_type": "stream",
       "stream": "stdout",
       "text": [
        "\n",
        "20 5000\n",
        "40 5000\n",
        "80 5000\n",
        "160 5000\n",
        "320 5000\n",
        "640 5000\n",
        "1280 5000\n",
        "2560 5000\n"
       ]
      },
      {
       "metadata": {},
       "output_type": "pyout",
       "prompt_number": 41,
       "text": [
        "([<matplotlib.axis.XTick at 0x7f56c7a1b990>,\n",
        "  <matplotlib.axis.XTick at 0x7f56c7a3f1d0>,\n",
        "  <matplotlib.axis.XTick at 0x7f56c7999690>,\n",
        "  <matplotlib.axis.XTick at 0x7f56c79a5790>],\n",
        " <a list of 4 Text xticklabel objects>)"
       ]
      },
      {
       "metadata": {},
       "output_type": "display_data",
       "png": "[encoded data removed]",
       "text": [
        "<matplotlib.figure.Figure at 0x7f56c7bf2ed0>"
       ]
      },
      {
       "metadata": {},
       "output_type": "display_data",
       "png": "[encoded data removed]",
       "text": [
        "<matplotlib.figure.Figure at 0x7f56c7a5da50>"
       ]
      }
     ],
     "prompt_number": 41
    },
    {
     "cell_type": "code",
     "collapsed": false,
     "input": [
      "max_data=[numpy.array(compiled_results[0][0])]+[numpy.array(z[2]) for z in compiled_results]\n",
      "print len(max_data)\n",
      "max_data=np.vstack(max_data).transpose()\n",
      "\n",
      "mean_data=[numpy.array(compiled_results[0][0])]+[numpy.array(z[1]) for z in compiled_results]\n",
      "print len(mean_data)\n",
      "mean_data=np.vstack(mean_data).transpose()\n",
      "\n",
      "cols=[\"generation\"]+[treatment_post[treat[1]] for treat in treatments]\n",
      "df1 = pandas.DataFrame(max_data,columns=cols)\n",
      "df1.to_csv(\"gmaze-max.dat\",sep=\" \",index_label=\"indx\")\n",
      "\n",
      "df2 = pandas.DataFrame(mean_data,columns=cols)\n",
      "df2.to_csv(\"gmaze-mean.dat\",sep=\" \",index_label=\"indx\")\n",
      "\n",
      "\n",
      "#speed = pd.Series([str(t) for t in treatments], name=\"treatment\")\n",
      "#sns.tsplot(numpy.dstack(samps_tot),condition=speed,err_style=\"boot_traces\",ci=99.9999)\n",
      "\n",
      "#legend(bbox_to_anchor=(0., 1.02, 1., .102), loc=3,\n",
      "#       ncol=2, mode=\"expand\", borderaxespad=0.)"
     ],
     "language": "python",
     "metadata": {},
     "outputs": [
      {
       "output_type": "stream",
       "stream": "stdout",
       "text": [
        "5\n",
        "5\n"
       ]
      }
     ],
     "prompt_number": 42
    },
    {
     "cell_type": "heading",
     "level": 1,
     "metadata": {},
     "source": [
      "Stat analyis"
     ]
    },
    {
     "cell_type": "code",
     "collapsed": false,
     "input": [
      "#print store\n",
      "key=3000000\n",
      "indx=2\n",
      "import scipy.stats\n",
      "\n",
      "for x in treatments:\n",
      "    for y in treatments:\n",
      "        \n",
      "        xlabel=treatment_pre[x[0]]+treatment_post[x[1]]\n",
      "        ylabel=treatment_pre[y[0]]+treatment_post[y[1]]\n",
      "        xdat=store[x][indx][key]\n",
      "        ydat=store[y][indx][key]\n",
      "        xmean=float(sum(xdat))/len(xdat)\n",
      "        ymean=float(sum(ydat))/len(ydat)\n",
      "        print xlabel,xmean,ylabel,ymean,scipy.stats.ttest_ind(xdat,ydat)[1]"
     ],
     "language": "python",
     "metadata": {},
     "outputs": [
      {
       "ename": "ZeroDivisionError",
       "evalue": "float division by zero",
       "output_type": "pyerr",
       "traceback": [
        "\u001b[0;31m---------------------------------------------------------------------------\u001b[0m\n\u001b[0;31mZeroDivisionError\u001b[0m                         Traceback (most recent call last)",
        "\u001b[0;32m<ipython-input-44-04f5ae7c1e4f>\u001b[0m in \u001b[0;36m<module>\u001b[0;34m()\u001b[0m\n\u001b[1;32m     11\u001b[0m         \u001b[0mxdat\u001b[0m\u001b[0;34m=\u001b[0m\u001b[0mstore\u001b[0m\u001b[0;34m[\u001b[0m\u001b[0mx\u001b[0m\u001b[0;34m]\u001b[0m\u001b[0;34m[\u001b[0m\u001b[0mindx\u001b[0m\u001b[0;34m]\u001b[0m\u001b[0;34m[\u001b[0m\u001b[0mkey\u001b[0m\u001b[0;34m]\u001b[0m\u001b[0;34m\u001b[0m\u001b[0m\n\u001b[1;32m     12\u001b[0m         \u001b[0mydat\u001b[0m\u001b[0;34m=\u001b[0m\u001b[0mstore\u001b[0m\u001b[0;34m[\u001b[0m\u001b[0my\u001b[0m\u001b[0;34m]\u001b[0m\u001b[0;34m[\u001b[0m\u001b[0mindx\u001b[0m\u001b[0;34m]\u001b[0m\u001b[0;34m[\u001b[0m\u001b[0mkey\u001b[0m\u001b[0;34m]\u001b[0m\u001b[0;34m\u001b[0m\u001b[0m\n\u001b[0;32m---> 13\u001b[0;31m         \u001b[0mxmean\u001b[0m\u001b[0;34m=\u001b[0m\u001b[0mfloat\u001b[0m\u001b[0;34m(\u001b[0m\u001b[0msum\u001b[0m\u001b[0;34m(\u001b[0m\u001b[0mxdat\u001b[0m\u001b[0;34m)\u001b[0m\u001b[0;34m)\u001b[0m\u001b[0;34m/\u001b[0m\u001b[0mlen\u001b[0m\u001b[0;34m(\u001b[0m\u001b[0mxdat\u001b[0m\u001b[0;34m)\u001b[0m\u001b[0;34m\u001b[0m\u001b[0m\n\u001b[0m\u001b[1;32m     14\u001b[0m         \u001b[0mymean\u001b[0m\u001b[0;34m=\u001b[0m\u001b[0mfloat\u001b[0m\u001b[0;34m(\u001b[0m\u001b[0msum\u001b[0m\u001b[0;34m(\u001b[0m\u001b[0mydat\u001b[0m\u001b[0;34m)\u001b[0m\u001b[0;34m)\u001b[0m\u001b[0;34m/\u001b[0m\u001b[0mlen\u001b[0m\u001b[0;34m(\u001b[0m\u001b[0mydat\u001b[0m\u001b[0;34m)\u001b[0m\u001b[0;34m\u001b[0m\u001b[0m\n\u001b[1;32m     15\u001b[0m         \u001b[0;32mprint\u001b[0m \u001b[0mxlabel\u001b[0m\u001b[0;34m,\u001b[0m\u001b[0mxmean\u001b[0m\u001b[0;34m,\u001b[0m\u001b[0mylabel\u001b[0m\u001b[0;34m,\u001b[0m\u001b[0mymean\u001b[0m\u001b[0;34m,\u001b[0m\u001b[0mscipy\u001b[0m\u001b[0;34m.\u001b[0m\u001b[0mstats\u001b[0m\u001b[0;34m.\u001b[0m\u001b[0mttest_ind\u001b[0m\u001b[0;34m(\u001b[0m\u001b[0mxdat\u001b[0m\u001b[0;34m,\u001b[0m\u001b[0mydat\u001b[0m\u001b[0;34m)\u001b[0m\u001b[0;34m[\u001b[0m\u001b[0;36m1\u001b[0m\u001b[0;34m]\u001b[0m\u001b[0;34m\u001b[0m\u001b[0m\n",
        "\u001b[0;31mZeroDivisionError\u001b[0m: float division by zero"
       ]
      }
     ],
     "prompt_number": 44
    },
    {
     "cell_type": "heading",
     "level": 1,
     "metadata": {},
     "source": [
      "Niche Analysis"
     ]
    },
    {
     "cell_type": "code",
     "collapsed": false,
     "input": [
      "for treat in treatments:\n",
      " #files=glob.glob(\"%sout-%s*.log\"% treat)\n",
      " files=glob.glob(\"%s%s*.log\"% treat)\n",
      " for fn in files:\n",
      "        fn_new=fn + \".new\"\n",
      "        a=open(fn).read()\n",
      "        a=a.replace(\"(\",\"\").replace(\")\",\"\")\n",
      "        b=open(fn_new,\"w\").write(a)"
     ],
     "language": "python",
     "metadata": {},
     "outputs": [],
     "prompt_number": 45
    },
    {
     "cell_type": "code",
     "collapsed": false,
     "input": [
      "\n",
      "#data=data[data[\"eval\"]%50000==0]\n",
      "#plot(data[\"eval\"],data[\"niches\"])\n",
      "\n",
      "def compile_treatment_niche(treat):\n",
      "    #files=glob.glob(\"%sout-%s*.log.new\"% treat)\n",
      "    files=glob.glob(\"%s%s*.log.new\"% treat)\n",
      "    datas=[]\n",
      "    for fn in files:\n",
      "        dat=read_csv(fn,header=None,sep=',',names=[\"eval\",\"niches\",\"entropy\",\"complexity\",\"fit\",\"gen\"])\n",
      "        #if(dat.shape[0]<3000):\n",
      "        #    continue\n",
      "        datas.append(dat[:2000])\n",
      "    return datas,files\n",
      "\n",
      "\"\"\"\n",
      "    for x in datas[0][\"eval\"].unique():   \n",
      "     max_dict[x]=sum(max_dict[x])/float(len(max_dict[x]))\n",
      "\n",
      "    x=max_dict.keys()\n",
      "    x.sort()\n",
      "    y=[max_dict[k] for k in x]\n",
      "    return x,y\n",
      "\"\"\"\n",
      "\n"
     ],
     "language": "python",
     "metadata": {},
     "outputs": [
      {
       "metadata": {},
       "output_type": "pyout",
       "prompt_number": 46,
       "text": [
        "'\\n    for x in datas[0][\"eval\"].unique():   \\n     max_dict[x]=sum(max_dict[x])/float(len(max_dict[x]))\\n\\n    x=max_dict.keys()\\n    x.sort()\\n    y=[max_dict[k] for k in x]\\n    return x,y\\n'"
       ]
      }
     ],
     "prompt_number": 46
    },
    {
     "cell_type": "code",
     "collapsed": false,
     "input": [
      "data=[]\n",
      "for treat in treatments:\n",
      "#for treat in [treatments[4]]:\n",
      "    #print treat\n",
      "    t=treat\n",
      "    label=treatment_pre[t[0]]+treatment_post[t[1]]\n",
      "    d,files=compile_treatment_niche(treat)\n",
      "    x=d[0][\"gen\"]\n",
      "    accum=d[0]\n",
      "    key=\"niches\"\n",
      "    for k in range(1,len(d)):\n",
      "      #print len(d[k][key]),files[k]\n",
      "      accum[key]+=d[k][key]\n",
      "    accum[key]/=len(d)\n",
      "    plot(x,accum[key],label=label)\n",
      "    data.append((x,accum[key],label))\n",
      "title(\"Niches occupied\")\n",
      "#legend()\n",
      "legend(loc=3,\n",
      "       ncol=2, mode=\"expand\", borderaxespad=0.)"
     ],
     "language": "python",
     "metadata": {},
     "outputs": [
      {
       "metadata": {},
       "output_type": "pyout",
       "prompt_number": 47,
       "text": [
        "<matplotlib.legend.Legend at 0x7f56c7bd8ad0>"
       ]
      },
      {
       "metadata": {},
       "output_type": "display_data",
       "png": "[encoded data removed]",
       "text": [
        "<matplotlib.figure.Figure at 0x7f56c796a850>"
       ]
      }
     ],
     "prompt_number": 47
    },
    {
     "cell_type": "code",
     "collapsed": false,
     "input": [
      "data=[numpy.array(data[0][0])]+[numpy.array(z[1]) for z in data]\n",
      "print len(data)\n",
      "data=np.vstack(data).transpose()\n",
      "\n",
      "\n",
      "cols=[\"generation\"]+[treatment_post[treat[1]] for treat in treatments]\n",
      "df1 = pandas.DataFrame(data,columns=cols)\n",
      "df1.to_csv(\"gmaze-niches.dat\",sep=\" \",index_label=\"indx\")"
     ],
     "language": "python",
     "metadata": {},
     "outputs": [
      {
       "output_type": "stream",
       "stream": "stdout",
       "text": [
        "5\n"
       ]
      }
     ],
     "prompt_number": 48
    },
    {
     "cell_type": "code",
     "collapsed": false,
     "input": [
      "for treat in treatments:\n",
      "    print treat\n",
      "    d,files=compile_treatment_niche(treat)\n",
      "    x=d[0][\"gen\"]\n",
      "    key=\"complexity\"\n",
      "    y=np.vstack([d[k][key] for k in range(len(d))]).mean(0)\n",
      "    t=treat\n",
      "    label=treatment_pre[t[0]]+treatment_post[t[1]]\n",
      "    plot(x[1:],y[1:],label=label)\n",
      "\n",
      "title(\"avg \" + key)\n",
      "legend(loc=3,\n",
      "       ncol=2, mode=\"expand\", borderaxespad=0.)"
     ],
     "language": "python",
     "metadata": {},
     "outputs": [
      {
       "output_type": "stream",
       "stream": "stdout",
       "text": [
        "('r/gsa', 'cnti1')\n",
        "('r/gsa', 'exti1')"
       ]
      },
      {
       "output_type": "stream",
       "stream": "stdout",
       "text": [
        "\n",
        "('r/gsa', 'exti2')"
       ]
      },
      {
       "output_type": "stream",
       "stream": "stdout",
       "text": [
        "\n",
        "('r/gsa', 'exti3')"
       ]
      },
      {
       "output_type": "stream",
       "stream": "stdout",
       "text": [
        "\n"
       ]
      },
      {
       "metadata": {},
       "output_type": "pyout",
       "prompt_number": 49,
       "text": [
        "<matplotlib.legend.Legend at 0x7f56c7f6b890>"
       ]
      },
      {
       "metadata": {},
       "output_type": "display_data",
       "png": "[encoded data removed]",
       "text": [
        "<matplotlib.figure.Figure at 0x7f56c7b2b190>"
       ]
      }
     ],
     "prompt_number": 49
    },
    {
     "cell_type": "code",
     "collapsed": false,
     "input": [
      "\n",
      "\n",
      "for treat in treatments:\n",
      "    d,files=compile_treatment_niche(treat)\n",
      "    x=d[0][\"gen\"]\n",
      "    key=\"fit\"\n",
      "    y=np.vstack([d[k][key] for k in range(len(d))]).mean(0)\n",
      "    t=treat\n",
      "    label=treatment_pre[t[0]]+treatment_post[t[1]]\n",
      "    plot(x[100:],y[100:],label=label)\n",
      "\n",
      "title(\"avg \" + key)\n",
      "legend(loc=3,\n",
      "       ncol=2, mode=\"expand\", borderaxespad=0.)"
     ],
     "language": "python",
     "metadata": {},
     "outputs": [
      {
       "metadata": {},
       "output_type": "pyout",
       "prompt_number": 50,
       "text": [
        "<matplotlib.legend.Legend at 0x7f56c7da8650>"
       ]
      },
      {
       "metadata": {},
       "output_type": "display_data",
       "png": "[encoded data removed]",
       "text": [
        "<matplotlib.figure.Figure at 0x7f56c784ded0>"
       ]
      }
     ],
     "prompt_number": 50
    },
    {
     "cell_type": "code",
     "collapsed": false,
     "input": [
      "labels=[]\n",
      "values=[]\n",
      "\n",
      "for treat in treatments:\n",
      "    #print treat\n",
      "    t=treat\n",
      "    globstr=treat[0]+\"*\"+treat[1]+\"*solution.dat\"\n",
      "    label=treatment_pre[t[0]]+treatment_post[t[1]]\n",
      "    value=len(glob.glob(globstr))/20.0\n",
      "    print label,value\n",
      "    labels.append(label)\n",
      "    values.append(value)\n",
      "\n",
      "bar(range(len(treatments)),values)\n",
      "xticks([k+0.4 for k in range(len(treatments))],labels)\n",
      "ylim(0,1)\n",
      "title(\"Solution Probability\")\n",
      "#xticklabels(values)"
     ],
     "language": "python",
     "metadata": {},
     "outputs": [
      {
       "output_type": "stream",
       "stream": "stdout",
       "text": [
        "Control 0.45\n",
        "ExtinctionMost 0.55\n",
        "ExtinctionMore 0.4\n",
        "ExtinctionSome 0.45\n"
       ]
      },
      {
       "metadata": {},
       "output_type": "pyout",
       "prompt_number": 52,
       "text": [
        "<matplotlib.text.Text at 0x7f56c76bdd10>"
       ]
      },
      {
       "metadata": {},
       "output_type": "display_data",
       "png": "[encoded data removed]",
       "text": [
        "<matplotlib.figure.Figure at 0x7f56c780fb50>"
       ]
      }
     ],
     "prompt_number": 52
    },
    {
     "cell_type": "code",
     "collapsed": false,
     "input": [
      "def get_traits(fn):\n",
      "    lines=open(fn).read().split(\"\\n\")[:-1]\n",
      "    traits=[k for k in lines if k.find(\"trait\")!=-1]\n",
      "    return [[float(z) for z in t.split()[1:5]] for t in traits]\n",
      "\n",
      "def get_links(fn):\n",
      "    lines=open(fn).read().split(\"\\n\")[:-1]\n",
      "    traits=[k for k in lines if k.find(\"gene\")!=-1]\n",
      "    return [[float(z) for z in t.split()[1:5]] for t in traits]\n",
      "\n",
      "def avg_over(files,func,indx):\n",
      "    return sum([func(k)[indx] for k in files])/len(files)\n",
      "\n",
      "from collections import Counter\n",
      "def avg_traits(fn):\n",
      "    t=get_traits(fn)\n",
      "    links=get_links(fn)\n",
      "    \n",
      "    total=float(len(links))\n",
      "    tcount=Counter([x[0] for x in links])\n",
      "    \n",
      "    #print tcount\n",
      "    avg_mod = sum([t[x][1]*tcount[x+1] for x in range(3)])/total #len(t)\n",
      "    avg_skip = sum([t[x][2]*tcount[x+1] for x in range(3)])/total #len(t)\n",
      "    avg_dummy = min(tcount[1],tcount[2],tcount[3])/total\n",
      "    #avg_dummy = sum([t[x][3]*tcount[x+1] for x in range(3)])/total #len(t)\n",
      "    \n",
      "    \"\"\"\n",
      "    avg_mod = sum([z[1] for z in t])/len(t)\n",
      "    avg_skip = sum([z[2] for z in t])/len(t)\n",
      "    avg_dummy = sum([z[3] for z in t])/len(t)\n",
      "    \"\"\"\n",
      "    \n",
      "    return (avg_mod,avg_skip,avg_dummy)\n",
      "\n",
      "for z in range(3):\n",
      " labels=[]\n",
      " values=[]\n",
      " for treat in treatments:\n",
      "    t=treat\n",
      "    label=treatment_pre[t[0]]+treatment_post[t[1]]\n",
      "    \n",
      "    gcmd=treat[0]+\"*\"+treat[1]+\"*bestevo.dat\"\n",
      "    files=glob.glob(gcmd)\n",
      "    \n",
      "    value=avg_over(files,avg_traits,z)\n",
      "    print label,value\n",
      "    labels.append(label)\n",
      "    values.append(value)\n",
      "    \n",
      "    #get_traits(files[0])\n",
      "    #get_links(files[1])\n",
      "    #print avg_traits(files[4])\n",
      " bar(range(len(treatments)),values)\n",
      " xticks([k+0.4 for k in range(len(treatments))],labels)\n",
      " ylim(0,1)\n",
      " title(\"%d Average\" % z)\n",
      " plt.figure()"
     ],
     "language": "python",
     "metadata": {},
     "outputs": [
      {
       "output_type": "stream",
       "stream": "stdout",
       "text": [
        "Control 0.206585298139\n",
        "ExtinctionMost 0.159105712469\n",
        "ExtinctionMore 0.185365957583\n",
        "ExtinctionSome 0.225021031176\n",
        "Control"
       ]
      },
      {
       "output_type": "stream",
       "stream": "stdout",
       "text": [
        " 0.144503819477\n",
        "ExtinctionMost 0.445095330087\n",
        "ExtinctionMore 0.294547737171\n",
        "ExtinctionSome 0.225082563777\n",
        "Control"
       ]
      },
      {
       "output_type": "stream",
       "stream": "stdout",
       "text": [
        " 0.0345029620657\n",
        "ExtinctionMost 0.0861044976479\n",
        "ExtinctionMore 0.0820423793332\n",
        "ExtinctionSome 0.0622368186397\n"
       ]
      },
      {
       "metadata": {},
       "output_type": "display_data",
       "png": "[encoded data removed]",
       "text": [
        "<matplotlib.figure.Figure at 0x7f56c7f42410>"
       ]
      },
      {
       "metadata": {},
       "output_type": "display_data",
       "png": "[encoded data removed]",
       "text": [
        "<matplotlib.figure.Figure at 0x7f56c7561d10>"
       ]
      },
      {
       "metadata": {},
       "output_type": "display_data",
       "png": "[encoded data removed]",
       "text": [
        "<matplotlib.figure.Figure at 0x7f56c7561c10>"
       ]
      },
      {
       "metadata": {},
       "output_type": "display_data",
       "text": [
        "<matplotlib.figure.Figure at 0x7f56c74e6890>"
       ]
      }
     ],
     "prompt_number": 53
    },
    {
     "cell_type": "code",
     "collapsed": false,
     "input": [],
     "language": "python",
     "metadata": {},
     "outputs": [],
     "prompt_number": 13
    },
    {
     "cell_type": "code",
     "collapsed": false,
     "input": [],
     "language": "python",
     "metadata": {},
     "outputs": [],
     "prompt_number": 13
    }
   ],
   "metadata": {}
  }
 ]
}